{
  "nbformat": 4,
  "nbformat_minor": 0,
  "metadata": {
    "colab": {
      "provenance": [],
      "authorship_tag": "ABX9TyO5FNvYzzIDYluLYaiPhrPa",
      "include_colab_link": true
    },
    "kernelspec": {
      "name": "python3",
      "display_name": "Python 3"
    },
    "language_info": {
      "name": "python"
    }
  },
  "cells": [
    {
      "cell_type": "markdown",
      "metadata": {
        "id": "view-in-github",
        "colab_type": "text"
      },
      "source": [
        "<a href=\"https://colab.research.google.com/github/safwanak786/tdsIITM/blob/main/BBC_Location_ID_Weather_Scraping.ipynb\" target=\"_parent\"><img src=\"https://colab.research.google.com/assets/colab-badge.svg\" alt=\"Open In Colab\"/></a>"
      ]
    },
    {
      "cell_type": "code",
      "execution_count": 9,
      "metadata": {
        "id": "ATU9eIuw5NIb"
      },
      "outputs": [],
      "source": [
        "import os\n",
        "\n",
        "import requests\n",
        "import json\n",
        "\n",
        "from urllib.parse import urlencode\n",
        "from bs4 import BeautifulSoup\n",
        "\n",
        "from datetime import datetime\n",
        "import numpy as np\n",
        "import pandas as pd\n",
        "import re"
      ]
    },
    {
      "cell_type": "code",
      "source": [
        "test_city = \"New York\"\n",
        "\n",
        "location_url = 'https://locator-service.api.bbci.co.uk/locations?' + urlencode({\n",
        "    'api_key':'AGbFAKx58hyjQScCXIYrxuEwJh2W2cmv',\n",
        "    'stack':'aws',\n",
        "    'locale':'en',\n",
        "    'filter':'international',\n",
        "    'place-types':'settlement,airport,district',\n",
        "    'order':'importance',\n",
        "    's':test_city,\n",
        "    'a':'true',\n",
        "    'format':'json'\n",
        "})\n",
        "\n",
        "location_url"
      ],
      "metadata": {
        "colab": {
          "base_uri": "https://localhost:8080/",
          "height": 53
        },
        "id": "sU340kkN6BOp",
        "outputId": "333f310a-184e-4d84-9a4b-ea51b08814c8"
      },
      "execution_count": 10,
      "outputs": [
        {
          "output_type": "execute_result",
          "data": {
            "text/plain": [
              "'https://locator-service.api.bbci.co.uk/locations?api_key=AGbFAKx58hyjQScCXIYrxuEwJh2W2cmv&stack=aws&locale=en&filter=international&place-types=settlement%2Cairport%2Cdistrict&order=importance&s=New+York&a=true&format=json'"
            ],
            "application/vnd.google.colaboratory.intrinsic+json": {
              "type": "string"
            }
          },
          "metadata": {},
          "execution_count": 10
        }
      ]
    },
    {
      "cell_type": "code",
      "source": [
        "result = requests.get(location_url).json()\n",
        "result"
      ],
      "metadata": {
        "colab": {
          "base_uri": "https://localhost:8080/"
        },
        "id": "CVb3NuH994cq",
        "outputId": "8a271cb3-663a-4bfe-8f28-bfbd1e432509"
      },
      "execution_count": 11,
      "outputs": [
        {
          "output_type": "execute_result",
          "data": {
            "text/plain": [
              "{'response': {'results': {'results': [{'id': '5128581',\n",
              "     'name': 'New York',\n",
              "     'container': 'United States',\n",
              "     'containerId': 6252001,\n",
              "     'language': 'en',\n",
              "     'timezone': 'America/New_York',\n",
              "     'country': 'US',\n",
              "     'latitude': 40.71427,\n",
              "     'longitude': -74.00597,\n",
              "     'placeType': 'settlement'},\n",
              "    {'id': '2641508',\n",
              "     'name': 'New York',\n",
              "     'container': 'Lincolnshire',\n",
              "     'containerId': 2644486,\n",
              "     'language': 'en',\n",
              "     'timezone': 'Europe/London',\n",
              "     'country': 'GB',\n",
              "     'latitude': 53.07897,\n",
              "     'longitude': -0.14008,\n",
              "     'placeType': 'settlement',\n",
              "     'topicId': 'cr0mejz7n26t'}],\n",
              "   'totalResults': 2}}}"
            ]
          },
          "metadata": {},
          "execution_count": 11
        }
      ]
    },
    {
      "cell_type": "code",
      "source": [
        "result['response']['results']['results'][0]['id']"
      ],
      "metadata": {
        "colab": {
          "base_uri": "https://localhost:8080/",
          "height": 36
        },
        "id": "JoKRCSqj-HY5",
        "outputId": "1c63a288-9014-4560-a406-82a0279d68a8"
      },
      "execution_count": 12,
      "outputs": [
        {
          "output_type": "execute_result",
          "data": {
            "text/plain": [
              "'5128581'"
            ],
            "application/vnd.google.colaboratory.intrinsic+json": {
              "type": "string"
            }
          },
          "metadata": {},
          "execution_count": 12
        }
      ]
    },
    {
      "cell_type": "code",
      "source": [
        "def getlocid(city):\n",
        "    city = city.lower()\n",
        "    location_url = 'https://locator-service.api.bbci.co.uk/locations?' + urlencode({\n",
        "      'api_key':'AGbFAKx58hyjQScCXIYrxuEwJh2W2cmv',\n",
        "      'stack':'aws',\n",
        "      'locale':'en',\n",
        "      'filter':'international',\n",
        "      'place-types':'settlement,airport,district',\n",
        "      'order':'importance',\n",
        "      's':city,\n",
        "      'a':'true',\n",
        "      'format':'json'\n",
        "    })\n",
        "    result = requests.get(location_url).json()\n",
        "    locid = result['response']['results']['results'][0]['id']\n",
        "    return locid\n",
        "\n"
      ],
      "metadata": {
        "id": "861BNfXo-aiz"
      },
      "execution_count": 13,
      "outputs": []
    },
    {
      "cell_type": "code",
      "source": [
        "getlocid(\"chennai\")"
      ],
      "metadata": {
        "colab": {
          "base_uri": "https://localhost:8080/",
          "height": 36
        },
        "id": "mWg43pws_P70",
        "outputId": "96bc3dc1-9c22-4de8-da69-88a163d977b4"
      },
      "execution_count": 14,
      "outputs": [
        {
          "output_type": "execute_result",
          "data": {
            "text/plain": [
              "'1264527'"
            ],
            "application/vnd.google.colaboratory.intrinsic+json": {
              "type": "string"
            }
          },
          "metadata": {},
          "execution_count": 14
        }
      ]
    },
    {
      "cell_type": "code",
      "source": [
        "getlocid(\"toronto\")"
      ],
      "metadata": {
        "colab": {
          "base_uri": "https://localhost:8080/",
          "height": 36
        },
        "id": "Vn3kjnE7_U_7",
        "outputId": "46771aa3-b0a1-4f9d-b2ce-b2796e2ac178"
      },
      "execution_count": 15,
      "outputs": [
        {
          "output_type": "execute_result",
          "data": {
            "text/plain": [
              "'6167865'"
            ],
            "application/vnd.google.colaboratory.intrinsic+json": {
              "type": "string"
            }
          },
          "metadata": {},
          "execution_count": 15
        }
      ]
    },
    {
      "cell_type": "code",
      "source": [
        "getlocid('syria')"
      ],
      "metadata": {
        "colab": {
          "base_uri": "https://localhost:8080/",
          "height": 36
        },
        "id": "GEgZpUXjCWRE",
        "outputId": "8b7ecf49-6886-477e-a41a-cc6f5e58c665"
      },
      "execution_count": 22,
      "outputs": [
        {
          "output_type": "execute_result",
          "data": {
            "text/plain": [
              "'4788664'"
            ],
            "application/vnd.google.colaboratory.intrinsic+json": {
              "type": "string"
            }
          },
          "metadata": {},
          "execution_count": 22
        }
      ]
    },
    {
      "cell_type": "code",
      "source": [
        "url = 'https://www.bbc.com/weather/' + getlocid('syria')\n",
        "response = requests.get(url)"
      ],
      "metadata": {
        "id": "IEd6MJk6_ck_"
      },
      "execution_count": 23,
      "outputs": []
    },
    {
      "cell_type": "code",
      "source": [
        "soup = BeautifulSoup(response.content, 'html.parser')"
      ],
      "metadata": {
        "id": "mpv2EHQE-exk"
      },
      "execution_count": 24,
      "outputs": []
    },
    {
      "cell_type": "code",
      "source": [
        "daily_high_values = soup.find_all('span', attrs={'class':'wr-day-temperature__high-value'})\n",
        "daily_high_values"
      ],
      "metadata": {
        "colab": {
          "base_uri": "https://localhost:8080/"
        },
        "id": "iSL_pCkh_fKS",
        "outputId": "fde92f58-c249-425f-85ee-baad8c28e8b7"
      },
      "execution_count": 26,
      "outputs": [
        {
          "output_type": "execute_result",
          "data": {
            "text/plain": [
              "[<span class=\"wr-day-temperature__high-value\"><span class=\"wr-value--temperature \"><span class=\"wr-value--temperature--c\">16°</span><span class=\"wr-hide\"> </span><span class=\"wr-value--temperature--f\">61°</span></span></span>,\n",
              " <span class=\"wr-day-temperature__high-value\"><span class=\"wr-value--temperature \"><span class=\"wr-value--temperature--c\">17°</span><span class=\"wr-hide\"> </span><span class=\"wr-value--temperature--f\">62°</span></span></span>,\n",
              " <span class=\"wr-day-temperature__high-value\"><span class=\"wr-value--temperature \"><span class=\"wr-value--temperature--c\">15°</span><span class=\"wr-hide\"> </span><span class=\"wr-value--temperature--f\">59°</span></span></span>,\n",
              " <span class=\"wr-day-temperature__high-value\"><span class=\"wr-value--temperature \"><span class=\"wr-value--temperature--c\">8°</span><span class=\"wr-hide\"> </span><span class=\"wr-value--temperature--f\">46°</span></span></span>,\n",
              " <span class=\"wr-day-temperature__high-value\"><span class=\"wr-value--temperature \"><span class=\"wr-value--temperature--c\">7°</span><span class=\"wr-hide\"> </span><span class=\"wr-value--temperature--f\">44°</span></span></span>,\n",
              " <span class=\"wr-day-temperature__high-value\"><span class=\"wr-value--temperature \"><span class=\"wr-value--temperature--c\">11°</span><span class=\"wr-hide\"> </span><span class=\"wr-value--temperature--f\">53°</span></span></span>,\n",
              " <span class=\"wr-day-temperature__high-value\"><span class=\"wr-value--temperature \"><span class=\"wr-value--temperature--c\">13°</span><span class=\"wr-hide\"> </span><span class=\"wr-value--temperature--f\">55°</span></span></span>,\n",
              " <span class=\"wr-day-temperature__high-value\"><span class=\"wr-value--temperature \"><span class=\"wr-value--temperature--c\">13°</span><span class=\"wr-hide\"> </span><span class=\"wr-value--temperature--f\">56°</span></span></span>,\n",
              " <span class=\"wr-day-temperature__high-value\"><span class=\"wr-value--temperature \"><span class=\"wr-value--temperature--c\">16°</span><span class=\"wr-hide\"> </span><span class=\"wr-value--temperature--f\">60°</span></span></span>,\n",
              " <span class=\"wr-day-temperature__high-value\"><span class=\"wr-value--temperature \"><span class=\"wr-value--temperature--c\">11°</span><span class=\"wr-hide\"> </span><span class=\"wr-value--temperature--f\">52°</span></span></span>,\n",
              " <span class=\"wr-day-temperature__high-value\"><span class=\"wr-value--temperature \"><span class=\"wr-value--temperature--c\">5°</span><span class=\"wr-hide\"> </span><span class=\"wr-value--temperature--f\">41°</span></span></span>,\n",
              " <span class=\"wr-day-temperature__high-value\"><span class=\"wr-value--temperature \"><span class=\"wr-value--temperature--c\">9°</span><span class=\"wr-hide\"> </span><span class=\"wr-value--temperature--f\">47°</span></span></span>,\n",
              " <span class=\"wr-day-temperature__high-value\"><span class=\"wr-value--temperature \"><span class=\"wr-value--temperature--c\">12°</span><span class=\"wr-hide\"> </span><span class=\"wr-value--temperature--f\">54°</span></span></span>,\n",
              " <span class=\"wr-day-temperature__high-value\"><span class=\"wr-value--temperature \"><span class=\"wr-value--temperature--c\">14°</span><span class=\"wr-hide\"> </span><span class=\"wr-value--temperature--f\">57°</span></span></span>]"
            ]
          },
          "metadata": {},
          "execution_count": 26
        }
      ]
    },
    {
      "cell_type": "code",
      "source": [
        "daily_low_values = soup.find_all('span', attrs={'class': 'wr-day-temperature__low-value'})\n",
        "daily_low_values"
      ],
      "metadata": {
        "colab": {
          "base_uri": "https://localhost:8080/"
        },
        "id": "FZW_j-FyAUet",
        "outputId": "c51e8260-e9f9-4126-80dc-2b4adb3e8409"
      },
      "execution_count": 27,
      "outputs": [
        {
          "output_type": "execute_result",
          "data": {
            "text/plain": [
              "[<span class=\"wr-day-temperature__low-value\"><span class=\"wr-value--temperature \"><span class=\"wr-value--temperature--c\">5°</span><span class=\"wr-hide\"> </span><span class=\"wr-value--temperature--f\">40°</span></span></span>,\n",
              " <span class=\"wr-day-temperature__low-value\"><span class=\"wr-value--temperature \"><span class=\"wr-value--temperature--c\">7°</span><span class=\"wr-hide\"> </span><span class=\"wr-value--temperature--f\">45°</span></span></span>,\n",
              " <span class=\"wr-day-temperature__low-value\"><span class=\"wr-value--temperature \"><span class=\"wr-value--temperature--c\">3°</span><span class=\"wr-hide\"> </span><span class=\"wr-value--temperature--f\">38°</span></span></span>,\n",
              " <span class=\"wr-day-temperature__low-value\"><span class=\"wr-value--temperature \"><span class=\"wr-value--temperature--c\">-1°</span><span class=\"wr-hide\"> </span><span class=\"wr-value--temperature--f\">30°</span></span></span>,\n",
              " <span class=\"wr-day-temperature__low-value\"><span class=\"wr-value--temperature \"><span class=\"wr-value--temperature--c\">-1°</span><span class=\"wr-hide\"> </span><span class=\"wr-value--temperature--f\">30°</span></span></span>,\n",
              " <span class=\"wr-day-temperature__low-value\"><span class=\"wr-value--temperature \"><span class=\"wr-value--temperature--c\">1°</span><span class=\"wr-hide\"> </span><span class=\"wr-value--temperature--f\">35°</span></span></span>,\n",
              " <span class=\"wr-day-temperature__low-value\"><span class=\"wr-value--temperature \"><span class=\"wr-value--temperature--c\">5°</span><span class=\"wr-hide\"> </span><span class=\"wr-value--temperature--f\">41°</span></span></span>,\n",
              " <span class=\"wr-day-temperature__low-value\"><span class=\"wr-value--temperature \"><span class=\"wr-value--temperature--c\">5°</span><span class=\"wr-hide\"> </span><span class=\"wr-value--temperature--f\">41°</span></span></span>,\n",
              " <span class=\"wr-day-temperature__low-value\"><span class=\"wr-value--temperature \"><span class=\"wr-value--temperature--c\">7°</span><span class=\"wr-hide\"> </span><span class=\"wr-value--temperature--f\">45°</span></span></span>,\n",
              " <span class=\"wr-day-temperature__low-value\"><span class=\"wr-value--temperature \"><span class=\"wr-value--temperature--c\">-2°</span><span class=\"wr-hide\"> </span><span class=\"wr-value--temperature--f\">28°</span></span></span>,\n",
              " <span class=\"wr-day-temperature__low-value\"><span class=\"wr-value--temperature \"><span class=\"wr-value--temperature--c\">-4°</span><span class=\"wr-hide\"> </span><span class=\"wr-value--temperature--f\">25°</span></span></span>,\n",
              " <span class=\"wr-day-temperature__low-value\"><span class=\"wr-value--temperature \"><span class=\"wr-value--temperature--c\">0°</span><span class=\"wr-hide\"> </span><span class=\"wr-value--temperature--f\">32°</span></span></span>,\n",
              " <span class=\"wr-day-temperature__low-value\"><span class=\"wr-value--temperature \"><span class=\"wr-value--temperature--c\">3°</span><span class=\"wr-hide\"> </span><span class=\"wr-value--temperature--f\">38°</span></span></span>,\n",
              " <span class=\"wr-day-temperature__low-value\"><span class=\"wr-value--temperature \"><span class=\"wr-value--temperature--c\">6°</span><span class=\"wr-hide\"> </span><span class=\"wr-value--temperature--f\">42°</span></span></span>]"
            ]
          },
          "metadata": {},
          "execution_count": 27
        }
      ]
    },
    {
      "cell_type": "code",
      "source": [
        "daily_summary = soup.find('div', attrs={'class': 'wr-day-summary'})\n",
        "daily_summary"
      ],
      "metadata": {
        "colab": {
          "base_uri": "https://localhost:8080/"
        },
        "id": "ZBMATLt4A36w",
        "outputId": "426f7205-f5ec-4d61-e914-65a9bad21ec4"
      },
      "execution_count": 28,
      "outputs": [
        {
          "output_type": "execute_result",
          "data": {
            "text/plain": [
              "<div class=\"wr-day-summary\"><div class=\"gel-wrap\"><span class=\"\">Sunny and light winds</span><span class=\"wr-hide\">Light cloud and a moderate breeze</span><span class=\"wr-hide\">Sunny intervals and light winds</span><span class=\"wr-hide\">Sleet and a gentle breeze</span><span class=\"wr-hide\">Light rain showers and a gentle breeze</span><span class=\"wr-hide\">Sunny and light winds</span><span class=\"wr-hide\">Sunny intervals and a gentle breeze</span><span class=\"wr-hide\">Drizzle and a gentle breeze</span><span class=\"wr-hide\">Light rain and a gentle breeze</span><span class=\"wr-hide\">Light rain showers and a moderate breeze</span><span class=\"wr-hide\">Light snow and a moderate breeze</span><span class=\"wr-hide\">Light cloud and a gentle breeze</span><span class=\"wr-hide\">Sunny intervals and a gentle breeze</span><span class=\"wr-hide\">Light rain and a moderate breeze</span></div></div>"
            ]
          },
          "metadata": {},
          "execution_count": 28
        }
      ]
    },
    {
      "cell_type": "code",
      "source": [
        "daily_summary.text"
      ],
      "metadata": {
        "colab": {
          "base_uri": "https://localhost:8080/",
          "height": 88
        },
        "id": "gOrfk8OmBPdh",
        "outputId": "67f80b09-5ce8-4a3e-ed23-8583bbdd7617"
      },
      "execution_count": 29,
      "outputs": [
        {
          "output_type": "execute_result",
          "data": {
            "text/plain": [
              "'Sunny and light windsLight cloud and a moderate breezeSunny intervals and light windsSleet and a gentle breezeLight rain showers and a gentle breezeSunny and light windsSunny intervals and a gentle breezeDrizzle and a gentle breezeLight rain and a gentle breezeLight rain showers and a moderate breezeLight snow and a moderate breezeLight cloud and a gentle breezeSunny intervals and a gentle breezeLight rain and a moderate breeze'"
            ],
            "application/vnd.google.colaboratory.intrinsic+json": {
              "type": "string"
            }
          },
          "metadata": {},
          "execution_count": 29
        }
      ]
    },
    {
      "cell_type": "code",
      "source": [
        "daily_high_values[0].text.strip()"
      ],
      "metadata": {
        "colab": {
          "base_uri": "https://localhost:8080/",
          "height": 36
        },
        "id": "wEI87M_GBcbU",
        "outputId": "5850d506-3dd5-4665-c003-147c4e3d78d8"
      },
      "execution_count": 30,
      "outputs": [
        {
          "output_type": "execute_result",
          "data": {
            "text/plain": [
              "'16° 61°'"
            ],
            "application/vnd.google.colaboratory.intrinsic+json": {
              "type": "string"
            }
          },
          "metadata": {},
          "execution_count": 30
        }
      ]
    },
    {
      "cell_type": "code",
      "source": [
        "daily_high_values_list = [daily_high_values[i].text.strip().split()[0] for i in range(len(daily_high_values))]\n",
        "daily_high_values_list"
      ],
      "metadata": {
        "colab": {
          "base_uri": "https://localhost:8080/"
        },
        "id": "DqMkcq0zC9kO",
        "outputId": "8c48e521-d724-4b95-a62d-c82cb8b2a804"
      },
      "execution_count": 32,
      "outputs": [
        {
          "output_type": "execute_result",
          "data": {
            "text/plain": [
              "['16°',\n",
              " '17°',\n",
              " '15°',\n",
              " '8°',\n",
              " '7°',\n",
              " '11°',\n",
              " '13°',\n",
              " '13°',\n",
              " '16°',\n",
              " '11°',\n",
              " '5°',\n",
              " '9°',\n",
              " '12°',\n",
              " '14°']"
            ]
          },
          "metadata": {},
          "execution_count": 32
        }
      ]
    },
    {
      "cell_type": "code",
      "source": [
        "daily_low_values_list = [daily_low_values[i].text.strip().split()[0] for i in range(len(daily_low_values))]\n",
        "daily_low_values_list"
      ],
      "metadata": {
        "colab": {
          "base_uri": "https://localhost:8080/"
        },
        "id": "CNpmTCImDaPj",
        "outputId": "d9793051-82c6-4109-b479-529c4ff4e583"
      },
      "execution_count": 34,
      "outputs": [
        {
          "output_type": "execute_result",
          "data": {
            "text/plain": [
              "['5°',\n",
              " '7°',\n",
              " '3°',\n",
              " '-1°',\n",
              " '-1°',\n",
              " '1°',\n",
              " '5°',\n",
              " '5°',\n",
              " '7°',\n",
              " '-2°',\n",
              " '-4°',\n",
              " '0°',\n",
              " '3°',\n",
              " '6°']"
            ]
          },
          "metadata": {},
          "execution_count": 34
        }
      ]
    },
    {
      "cell_type": "code",
      "source": [
        "daily_summary_list = re.findall('[a-zA-Z][^A-Z]*', daily_summary.text)\n",
        "daily_summary_list"
      ],
      "metadata": {
        "colab": {
          "base_uri": "https://localhost:8080/"
        },
        "id": "F1iOOHdCDmGR",
        "outputId": "cd9662db-d3c0-4712-8d1e-583b7d989f89"
      },
      "execution_count": 35,
      "outputs": [
        {
          "output_type": "execute_result",
          "data": {
            "text/plain": [
              "['Sunny and light winds',\n",
              " 'Light cloud and a moderate breeze',\n",
              " 'Sunny intervals and light winds',\n",
              " 'Sleet and a gentle breeze',\n",
              " 'Light rain showers and a gentle breeze',\n",
              " 'Sunny and light winds',\n",
              " 'Sunny intervals and a gentle breeze',\n",
              " 'Drizzle and a gentle breeze',\n",
              " 'Light rain and a gentle breeze',\n",
              " 'Light rain showers and a moderate breeze',\n",
              " 'Light snow and a moderate breeze',\n",
              " 'Light cloud and a gentle breeze',\n",
              " 'Sunny intervals and a gentle breeze',\n",
              " 'Light rain and a moderate breeze']"
            ]
          },
          "metadata": {},
          "execution_count": 35
        }
      ]
    },
    {
      "cell_type": "code",
      "source": [
        "datelist = pd.date_range(datetime.today(), periods=len(daily_high_values)).tolist()\n",
        "datelist"
      ],
      "metadata": {
        "colab": {
          "base_uri": "https://localhost:8080/"
        },
        "id": "4k4ukNMFEg5S",
        "outputId": "d6dc573f-9c26-4aa1-eedc-dfe9ebcbda9d"
      },
      "execution_count": 36,
      "outputs": [
        {
          "output_type": "execute_result",
          "data": {
            "text/plain": [
              "[Timestamp('2023-02-08 17:30:00.632128', freq='D'),\n",
              " Timestamp('2023-02-09 17:30:00.632128', freq='D'),\n",
              " Timestamp('2023-02-10 17:30:00.632128', freq='D'),\n",
              " Timestamp('2023-02-11 17:30:00.632128', freq='D'),\n",
              " Timestamp('2023-02-12 17:30:00.632128', freq='D'),\n",
              " Timestamp('2023-02-13 17:30:00.632128', freq='D'),\n",
              " Timestamp('2023-02-14 17:30:00.632128', freq='D'),\n",
              " Timestamp('2023-02-15 17:30:00.632128', freq='D'),\n",
              " Timestamp('2023-02-16 17:30:00.632128', freq='D'),\n",
              " Timestamp('2023-02-17 17:30:00.632128', freq='D'),\n",
              " Timestamp('2023-02-18 17:30:00.632128', freq='D'),\n",
              " Timestamp('2023-02-19 17:30:00.632128', freq='D'),\n",
              " Timestamp('2023-02-20 17:30:00.632128', freq='D'),\n",
              " Timestamp('2023-02-21 17:30:00.632128', freq='D')]"
            ]
          },
          "metadata": {},
          "execution_count": 36
        }
      ]
    },
    {
      "cell_type": "code",
      "source": [
        "datelist = [datelist[i].date().strftime('%y-%m-%d') for i in range(len(datelist))]\n",
        "datelist"
      ],
      "metadata": {
        "colab": {
          "base_uri": "https://localhost:8080/"
        },
        "id": "V4lc2Cz8E7Fy",
        "outputId": "eaeb3911-a91b-4112-f83a-55eb1174f271"
      },
      "execution_count": 37,
      "outputs": [
        {
          "output_type": "execute_result",
          "data": {
            "text/plain": [
              "['23-02-08',\n",
              " '23-02-09',\n",
              " '23-02-10',\n",
              " '23-02-11',\n",
              " '23-02-12',\n",
              " '23-02-13',\n",
              " '23-02-14',\n",
              " '23-02-15',\n",
              " '23-02-16',\n",
              " '23-02-17',\n",
              " '23-02-18',\n",
              " '23-02-19',\n",
              " '23-02-20',\n",
              " '23-02-21']"
            ]
          },
          "metadata": {},
          "execution_count": 37
        }
      ]
    },
    {
      "cell_type": "code",
      "source": [
        "zipped = zip(datelist, daily_high_values_list, daily_low_values_list, daily_summary_list)"
      ],
      "metadata": {
        "id": "Qent92UiF9hB"
      },
      "execution_count": 38,
      "outputs": []
    },
    {
      "cell_type": "code",
      "source": [
        "df= pd.DataFrame(list(zipped), columns=['Date', 'High', 'Low', 'Summary'])"
      ],
      "metadata": {
        "id": "cPJrTKu9GUFu"
      },
      "execution_count": 39,
      "outputs": []
    },
    {
      "cell_type": "code",
      "source": [
        "display(df)"
      ],
      "metadata": {
        "colab": {
          "base_uri": "https://localhost:8080/",
          "height": 488
        },
        "id": "kxJDjEPhGqkJ",
        "outputId": "194bd770-4a62-4416-f6fa-255268af40ea"
      },
      "execution_count": 40,
      "outputs": [
        {
          "output_type": "display_data",
          "data": {
            "text/plain": [
              "        Date High  Low                                   Summary\n",
              "0   23-02-08  16°   5°                     Sunny and light winds\n",
              "1   23-02-09  17°   7°         Light cloud and a moderate breeze\n",
              "2   23-02-10  15°   3°           Sunny intervals and light winds\n",
              "3   23-02-11   8°  -1°                 Sleet and a gentle breeze\n",
              "4   23-02-12   7°  -1°    Light rain showers and a gentle breeze\n",
              "5   23-02-13  11°   1°                     Sunny and light winds\n",
              "6   23-02-14  13°   5°       Sunny intervals and a gentle breeze\n",
              "7   23-02-15  13°   5°               Drizzle and a gentle breeze\n",
              "8   23-02-16  16°   7°            Light rain and a gentle breeze\n",
              "9   23-02-17  11°  -2°  Light rain showers and a moderate breeze\n",
              "10  23-02-18   5°  -4°          Light snow and a moderate breeze\n",
              "11  23-02-19   9°   0°           Light cloud and a gentle breeze\n",
              "12  23-02-20  12°   3°       Sunny intervals and a gentle breeze\n",
              "13  23-02-21  14°   6°          Light rain and a moderate breeze"
            ],
            "text/html": [
              "\n",
              "  <div id=\"df-0216b6b9-24ee-4244-828c-b417476ae42c\">\n",
              "    <div class=\"colab-df-container\">\n",
              "      <div>\n",
              "<style scoped>\n",
              "    .dataframe tbody tr th:only-of-type {\n",
              "        vertical-align: middle;\n",
              "    }\n",
              "\n",
              "    .dataframe tbody tr th {\n",
              "        vertical-align: top;\n",
              "    }\n",
              "\n",
              "    .dataframe thead th {\n",
              "        text-align: right;\n",
              "    }\n",
              "</style>\n",
              "<table border=\"1\" class=\"dataframe\">\n",
              "  <thead>\n",
              "    <tr style=\"text-align: right;\">\n",
              "      <th></th>\n",
              "      <th>Date</th>\n",
              "      <th>High</th>\n",
              "      <th>Low</th>\n",
              "      <th>Summary</th>\n",
              "    </tr>\n",
              "  </thead>\n",
              "  <tbody>\n",
              "    <tr>\n",
              "      <th>0</th>\n",
              "      <td>23-02-08</td>\n",
              "      <td>16°</td>\n",
              "      <td>5°</td>\n",
              "      <td>Sunny and light winds</td>\n",
              "    </tr>\n",
              "    <tr>\n",
              "      <th>1</th>\n",
              "      <td>23-02-09</td>\n",
              "      <td>17°</td>\n",
              "      <td>7°</td>\n",
              "      <td>Light cloud and a moderate breeze</td>\n",
              "    </tr>\n",
              "    <tr>\n",
              "      <th>2</th>\n",
              "      <td>23-02-10</td>\n",
              "      <td>15°</td>\n",
              "      <td>3°</td>\n",
              "      <td>Sunny intervals and light winds</td>\n",
              "    </tr>\n",
              "    <tr>\n",
              "      <th>3</th>\n",
              "      <td>23-02-11</td>\n",
              "      <td>8°</td>\n",
              "      <td>-1°</td>\n",
              "      <td>Sleet and a gentle breeze</td>\n",
              "    </tr>\n",
              "    <tr>\n",
              "      <th>4</th>\n",
              "      <td>23-02-12</td>\n",
              "      <td>7°</td>\n",
              "      <td>-1°</td>\n",
              "      <td>Light rain showers and a gentle breeze</td>\n",
              "    </tr>\n",
              "    <tr>\n",
              "      <th>5</th>\n",
              "      <td>23-02-13</td>\n",
              "      <td>11°</td>\n",
              "      <td>1°</td>\n",
              "      <td>Sunny and light winds</td>\n",
              "    </tr>\n",
              "    <tr>\n",
              "      <th>6</th>\n",
              "      <td>23-02-14</td>\n",
              "      <td>13°</td>\n",
              "      <td>5°</td>\n",
              "      <td>Sunny intervals and a gentle breeze</td>\n",
              "    </tr>\n",
              "    <tr>\n",
              "      <th>7</th>\n",
              "      <td>23-02-15</td>\n",
              "      <td>13°</td>\n",
              "      <td>5°</td>\n",
              "      <td>Drizzle and a gentle breeze</td>\n",
              "    </tr>\n",
              "    <tr>\n",
              "      <th>8</th>\n",
              "      <td>23-02-16</td>\n",
              "      <td>16°</td>\n",
              "      <td>7°</td>\n",
              "      <td>Light rain and a gentle breeze</td>\n",
              "    </tr>\n",
              "    <tr>\n",
              "      <th>9</th>\n",
              "      <td>23-02-17</td>\n",
              "      <td>11°</td>\n",
              "      <td>-2°</td>\n",
              "      <td>Light rain showers and a moderate breeze</td>\n",
              "    </tr>\n",
              "    <tr>\n",
              "      <th>10</th>\n",
              "      <td>23-02-18</td>\n",
              "      <td>5°</td>\n",
              "      <td>-4°</td>\n",
              "      <td>Light snow and a moderate breeze</td>\n",
              "    </tr>\n",
              "    <tr>\n",
              "      <th>11</th>\n",
              "      <td>23-02-19</td>\n",
              "      <td>9°</td>\n",
              "      <td>0°</td>\n",
              "      <td>Light cloud and a gentle breeze</td>\n",
              "    </tr>\n",
              "    <tr>\n",
              "      <th>12</th>\n",
              "      <td>23-02-20</td>\n",
              "      <td>12°</td>\n",
              "      <td>3°</td>\n",
              "      <td>Sunny intervals and a gentle breeze</td>\n",
              "    </tr>\n",
              "    <tr>\n",
              "      <th>13</th>\n",
              "      <td>23-02-21</td>\n",
              "      <td>14°</td>\n",
              "      <td>6°</td>\n",
              "      <td>Light rain and a moderate breeze</td>\n",
              "    </tr>\n",
              "  </tbody>\n",
              "</table>\n",
              "</div>\n",
              "      <button class=\"colab-df-convert\" onclick=\"convertToInteractive('df-0216b6b9-24ee-4244-828c-b417476ae42c')\"\n",
              "              title=\"Convert this dataframe to an interactive table.\"\n",
              "              style=\"display:none;\">\n",
              "        \n",
              "  <svg xmlns=\"http://www.w3.org/2000/svg\" height=\"24px\"viewBox=\"0 0 24 24\"\n",
              "       width=\"24px\">\n",
              "    <path d=\"M0 0h24v24H0V0z\" fill=\"none\"/>\n",
              "    <path d=\"M18.56 5.44l.94 2.06.94-2.06 2.06-.94-2.06-.94-.94-2.06-.94 2.06-2.06.94zm-11 1L8.5 8.5l.94-2.06 2.06-.94-2.06-.94L8.5 2.5l-.94 2.06-2.06.94zm10 10l.94 2.06.94-2.06 2.06-.94-2.06-.94-.94-2.06-.94 2.06-2.06.94z\"/><path d=\"M17.41 7.96l-1.37-1.37c-.4-.4-.92-.59-1.43-.59-.52 0-1.04.2-1.43.59L10.3 9.45l-7.72 7.72c-.78.78-.78 2.05 0 2.83L4 21.41c.39.39.9.59 1.41.59.51 0 1.02-.2 1.41-.59l7.78-7.78 2.81-2.81c.8-.78.8-2.07 0-2.86zM5.41 20L4 18.59l7.72-7.72 1.47 1.35L5.41 20z\"/>\n",
              "  </svg>\n",
              "      </button>\n",
              "      \n",
              "  <style>\n",
              "    .colab-df-container {\n",
              "      display:flex;\n",
              "      flex-wrap:wrap;\n",
              "      gap: 12px;\n",
              "    }\n",
              "\n",
              "    .colab-df-convert {\n",
              "      background-color: #E8F0FE;\n",
              "      border: none;\n",
              "      border-radius: 50%;\n",
              "      cursor: pointer;\n",
              "      display: none;\n",
              "      fill: #1967D2;\n",
              "      height: 32px;\n",
              "      padding: 0 0 0 0;\n",
              "      width: 32px;\n",
              "    }\n",
              "\n",
              "    .colab-df-convert:hover {\n",
              "      background-color: #E2EBFA;\n",
              "      box-shadow: 0px 1px 2px rgba(60, 64, 67, 0.3), 0px 1px 3px 1px rgba(60, 64, 67, 0.15);\n",
              "      fill: #174EA6;\n",
              "    }\n",
              "\n",
              "    [theme=dark] .colab-df-convert {\n",
              "      background-color: #3B4455;\n",
              "      fill: #D2E3FC;\n",
              "    }\n",
              "\n",
              "    [theme=dark] .colab-df-convert:hover {\n",
              "      background-color: #434B5C;\n",
              "      box-shadow: 0px 1px 3px 1px rgba(0, 0, 0, 0.15);\n",
              "      filter: drop-shadow(0px 1px 2px rgba(0, 0, 0, 0.3));\n",
              "      fill: #FFFFFF;\n",
              "    }\n",
              "  </style>\n",
              "\n",
              "      <script>\n",
              "        const buttonEl =\n",
              "          document.querySelector('#df-0216b6b9-24ee-4244-828c-b417476ae42c button.colab-df-convert');\n",
              "        buttonEl.style.display =\n",
              "          google.colab.kernel.accessAllowed ? 'block' : 'none';\n",
              "\n",
              "        async function convertToInteractive(key) {\n",
              "          const element = document.querySelector('#df-0216b6b9-24ee-4244-828c-b417476ae42c');\n",
              "          const dataTable =\n",
              "            await google.colab.kernel.invokeFunction('convertToInteractive',\n",
              "                                                     [key], {});\n",
              "          if (!dataTable) return;\n",
              "\n",
              "          const docLinkHtml = 'Like what you see? Visit the ' +\n",
              "            '<a target=\"_blank\" href=https://colab.research.google.com/notebooks/data_table.ipynb>data table notebook</a>'\n",
              "            + ' to learn more about interactive tables.';\n",
              "          element.innerHTML = '';\n",
              "          dataTable['output_type'] = 'display_data';\n",
              "          await google.colab.output.renderOutput(dataTable, element);\n",
              "          const docLink = document.createElement('div');\n",
              "          docLink.innerHTML = docLinkHtml;\n",
              "          element.appendChild(docLink);\n",
              "        }\n",
              "      </script>\n",
              "    </div>\n",
              "  </div>\n",
              "  "
            ]
          },
          "metadata": {}
        }
      ]
    },
    {
      "cell_type": "code",
      "source": [
        "df.High = df.High.replace('\\°', '', regex=True).astype(float)\n",
        "df.Low = df.Low.replace('\\°', '', regex=True).astype(float)"
      ],
      "metadata": {
        "id": "elPeaMAJGsz1"
      },
      "execution_count": 41,
      "outputs": []
    },
    {
      "cell_type": "code",
      "source": [
        "display(df)"
      ],
      "metadata": {
        "colab": {
          "base_uri": "https://localhost:8080/",
          "height": 488
        },
        "id": "uDtZo3m4IAF5",
        "outputId": "c8c2f41d-ebde-4fb6-dec2-526b51ee9c23"
      },
      "execution_count": 42,
      "outputs": [
        {
          "output_type": "display_data",
          "data": {
            "text/plain": [
              "        Date  High  Low                                   Summary\n",
              "0   23-02-08  16.0  5.0                     Sunny and light winds\n",
              "1   23-02-09  17.0  7.0         Light cloud and a moderate breeze\n",
              "2   23-02-10  15.0  3.0           Sunny intervals and light winds\n",
              "3   23-02-11   8.0 -1.0                 Sleet and a gentle breeze\n",
              "4   23-02-12   7.0 -1.0    Light rain showers and a gentle breeze\n",
              "5   23-02-13  11.0  1.0                     Sunny and light winds\n",
              "6   23-02-14  13.0  5.0       Sunny intervals and a gentle breeze\n",
              "7   23-02-15  13.0  5.0               Drizzle and a gentle breeze\n",
              "8   23-02-16  16.0  7.0            Light rain and a gentle breeze\n",
              "9   23-02-17  11.0 -2.0  Light rain showers and a moderate breeze\n",
              "10  23-02-18   5.0 -4.0          Light snow and a moderate breeze\n",
              "11  23-02-19   9.0  0.0           Light cloud and a gentle breeze\n",
              "12  23-02-20  12.0  3.0       Sunny intervals and a gentle breeze\n",
              "13  23-02-21  14.0  6.0          Light rain and a moderate breeze"
            ],
            "text/html": [
              "\n",
              "  <div id=\"df-2f67cb68-2ca5-4047-b9ad-2c99951cda16\">\n",
              "    <div class=\"colab-df-container\">\n",
              "      <div>\n",
              "<style scoped>\n",
              "    .dataframe tbody tr th:only-of-type {\n",
              "        vertical-align: middle;\n",
              "    }\n",
              "\n",
              "    .dataframe tbody tr th {\n",
              "        vertical-align: top;\n",
              "    }\n",
              "\n",
              "    .dataframe thead th {\n",
              "        text-align: right;\n",
              "    }\n",
              "</style>\n",
              "<table border=\"1\" class=\"dataframe\">\n",
              "  <thead>\n",
              "    <tr style=\"text-align: right;\">\n",
              "      <th></th>\n",
              "      <th>Date</th>\n",
              "      <th>High</th>\n",
              "      <th>Low</th>\n",
              "      <th>Summary</th>\n",
              "    </tr>\n",
              "  </thead>\n",
              "  <tbody>\n",
              "    <tr>\n",
              "      <th>0</th>\n",
              "      <td>23-02-08</td>\n",
              "      <td>16.0</td>\n",
              "      <td>5.0</td>\n",
              "      <td>Sunny and light winds</td>\n",
              "    </tr>\n",
              "    <tr>\n",
              "      <th>1</th>\n",
              "      <td>23-02-09</td>\n",
              "      <td>17.0</td>\n",
              "      <td>7.0</td>\n",
              "      <td>Light cloud and a moderate breeze</td>\n",
              "    </tr>\n",
              "    <tr>\n",
              "      <th>2</th>\n",
              "      <td>23-02-10</td>\n",
              "      <td>15.0</td>\n",
              "      <td>3.0</td>\n",
              "      <td>Sunny intervals and light winds</td>\n",
              "    </tr>\n",
              "    <tr>\n",
              "      <th>3</th>\n",
              "      <td>23-02-11</td>\n",
              "      <td>8.0</td>\n",
              "      <td>-1.0</td>\n",
              "      <td>Sleet and a gentle breeze</td>\n",
              "    </tr>\n",
              "    <tr>\n",
              "      <th>4</th>\n",
              "      <td>23-02-12</td>\n",
              "      <td>7.0</td>\n",
              "      <td>-1.0</td>\n",
              "      <td>Light rain showers and a gentle breeze</td>\n",
              "    </tr>\n",
              "    <tr>\n",
              "      <th>5</th>\n",
              "      <td>23-02-13</td>\n",
              "      <td>11.0</td>\n",
              "      <td>1.0</td>\n",
              "      <td>Sunny and light winds</td>\n",
              "    </tr>\n",
              "    <tr>\n",
              "      <th>6</th>\n",
              "      <td>23-02-14</td>\n",
              "      <td>13.0</td>\n",
              "      <td>5.0</td>\n",
              "      <td>Sunny intervals and a gentle breeze</td>\n",
              "    </tr>\n",
              "    <tr>\n",
              "      <th>7</th>\n",
              "      <td>23-02-15</td>\n",
              "      <td>13.0</td>\n",
              "      <td>5.0</td>\n",
              "      <td>Drizzle and a gentle breeze</td>\n",
              "    </tr>\n",
              "    <tr>\n",
              "      <th>8</th>\n",
              "      <td>23-02-16</td>\n",
              "      <td>16.0</td>\n",
              "      <td>7.0</td>\n",
              "      <td>Light rain and a gentle breeze</td>\n",
              "    </tr>\n",
              "    <tr>\n",
              "      <th>9</th>\n",
              "      <td>23-02-17</td>\n",
              "      <td>11.0</td>\n",
              "      <td>-2.0</td>\n",
              "      <td>Light rain showers and a moderate breeze</td>\n",
              "    </tr>\n",
              "    <tr>\n",
              "      <th>10</th>\n",
              "      <td>23-02-18</td>\n",
              "      <td>5.0</td>\n",
              "      <td>-4.0</td>\n",
              "      <td>Light snow and a moderate breeze</td>\n",
              "    </tr>\n",
              "    <tr>\n",
              "      <th>11</th>\n",
              "      <td>23-02-19</td>\n",
              "      <td>9.0</td>\n",
              "      <td>0.0</td>\n",
              "      <td>Light cloud and a gentle breeze</td>\n",
              "    </tr>\n",
              "    <tr>\n",
              "      <th>12</th>\n",
              "      <td>23-02-20</td>\n",
              "      <td>12.0</td>\n",
              "      <td>3.0</td>\n",
              "      <td>Sunny intervals and a gentle breeze</td>\n",
              "    </tr>\n",
              "    <tr>\n",
              "      <th>13</th>\n",
              "      <td>23-02-21</td>\n",
              "      <td>14.0</td>\n",
              "      <td>6.0</td>\n",
              "      <td>Light rain and a moderate breeze</td>\n",
              "    </tr>\n",
              "  </tbody>\n",
              "</table>\n",
              "</div>\n",
              "      <button class=\"colab-df-convert\" onclick=\"convertToInteractive('df-2f67cb68-2ca5-4047-b9ad-2c99951cda16')\"\n",
              "              title=\"Convert this dataframe to an interactive table.\"\n",
              "              style=\"display:none;\">\n",
              "        \n",
              "  <svg xmlns=\"http://www.w3.org/2000/svg\" height=\"24px\"viewBox=\"0 0 24 24\"\n",
              "       width=\"24px\">\n",
              "    <path d=\"M0 0h24v24H0V0z\" fill=\"none\"/>\n",
              "    <path d=\"M18.56 5.44l.94 2.06.94-2.06 2.06-.94-2.06-.94-.94-2.06-.94 2.06-2.06.94zm-11 1L8.5 8.5l.94-2.06 2.06-.94-2.06-.94L8.5 2.5l-.94 2.06-2.06.94zm10 10l.94 2.06.94-2.06 2.06-.94-2.06-.94-.94-2.06-.94 2.06-2.06.94z\"/><path d=\"M17.41 7.96l-1.37-1.37c-.4-.4-.92-.59-1.43-.59-.52 0-1.04.2-1.43.59L10.3 9.45l-7.72 7.72c-.78.78-.78 2.05 0 2.83L4 21.41c.39.39.9.59 1.41.59.51 0 1.02-.2 1.41-.59l7.78-7.78 2.81-2.81c.8-.78.8-2.07 0-2.86zM5.41 20L4 18.59l7.72-7.72 1.47 1.35L5.41 20z\"/>\n",
              "  </svg>\n",
              "      </button>\n",
              "      \n",
              "  <style>\n",
              "    .colab-df-container {\n",
              "      display:flex;\n",
              "      flex-wrap:wrap;\n",
              "      gap: 12px;\n",
              "    }\n",
              "\n",
              "    .colab-df-convert {\n",
              "      background-color: #E8F0FE;\n",
              "      border: none;\n",
              "      border-radius: 50%;\n",
              "      cursor: pointer;\n",
              "      display: none;\n",
              "      fill: #1967D2;\n",
              "      height: 32px;\n",
              "      padding: 0 0 0 0;\n",
              "      width: 32px;\n",
              "    }\n",
              "\n",
              "    .colab-df-convert:hover {\n",
              "      background-color: #E2EBFA;\n",
              "      box-shadow: 0px 1px 2px rgba(60, 64, 67, 0.3), 0px 1px 3px 1px rgba(60, 64, 67, 0.15);\n",
              "      fill: #174EA6;\n",
              "    }\n",
              "\n",
              "    [theme=dark] .colab-df-convert {\n",
              "      background-color: #3B4455;\n",
              "      fill: #D2E3FC;\n",
              "    }\n",
              "\n",
              "    [theme=dark] .colab-df-convert:hover {\n",
              "      background-color: #434B5C;\n",
              "      box-shadow: 0px 1px 3px 1px rgba(0, 0, 0, 0.15);\n",
              "      filter: drop-shadow(0px 1px 2px rgba(0, 0, 0, 0.3));\n",
              "      fill: #FFFFFF;\n",
              "    }\n",
              "  </style>\n",
              "\n",
              "      <script>\n",
              "        const buttonEl =\n",
              "          document.querySelector('#df-2f67cb68-2ca5-4047-b9ad-2c99951cda16 button.colab-df-convert');\n",
              "        buttonEl.style.display =\n",
              "          google.colab.kernel.accessAllowed ? 'block' : 'none';\n",
              "\n",
              "        async function convertToInteractive(key) {\n",
              "          const element = document.querySelector('#df-2f67cb68-2ca5-4047-b9ad-2c99951cda16');\n",
              "          const dataTable =\n",
              "            await google.colab.kernel.invokeFunction('convertToInteractive',\n",
              "                                                     [key], {});\n",
              "          if (!dataTable) return;\n",
              "\n",
              "          const docLinkHtml = 'Like what you see? Visit the ' +\n",
              "            '<a target=\"_blank\" href=https://colab.research.google.com/notebooks/data_table.ipynb>data table notebook</a>'\n",
              "            + ' to learn more about interactive tables.';\n",
              "          element.innerHTML = '';\n",
              "          dataTable['output_type'] = 'display_data';\n",
              "          await google.colab.output.renderOutput(dataTable, element);\n",
              "          const docLink = document.createElement('div');\n",
              "          docLink.innerHTML = docLinkHtml;\n",
              "          element.appendChild(docLink);\n",
              "        }\n",
              "      </script>\n",
              "    </div>\n",
              "  </div>\n",
              "  "
            ]
          },
          "metadata": {}
        }
      ]
    },
    {
      "cell_type": "code",
      "source": [
        "location = soup.find('h1', attrs={'id':'wr-location-name-id'})\n",
        "location.text.split()"
      ],
      "metadata": {
        "colab": {
          "base_uri": "https://localhost:8080/"
        },
        "id": "eZ7rHhZBIE0U",
        "outputId": "7682ba7c-5936-499d-8bb1-cce500896bcd"
      },
      "execution_count": 43,
      "outputs": [
        {
          "output_type": "execute_result",
          "data": {
            "text/plain": [
              "['Syria', '-', 'Weather', 'warnings', 'issued']"
            ]
          },
          "metadata": {},
          "execution_count": 43
        }
      ]
    },
    {
      "cell_type": "code",
      "source": [
        "filename_csv = location.text.split()[0]+'.csv'\n",
        "df.to_csv(filename_csv, index=None)"
      ],
      "metadata": {
        "id": "5fDUvh3oIbQu"
      },
      "execution_count": 44,
      "outputs": []
    },
    {
      "cell_type": "code",
      "source": [
        "filename_xlsx = location.text.split()[0]+'.xlsx'\n",
        "df.to_excel(filename_xlsx)"
      ],
      "metadata": {
        "id": "MXjrGsKDI2uI"
      },
      "execution_count": 46,
      "outputs": []
    },
    {
      "cell_type": "code",
      "source": [],
      "metadata": {
        "id": "js2KYm6mJMJW"
      },
      "execution_count": null,
      "outputs": []
    }
  ]
}